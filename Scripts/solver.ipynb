{
 "cells": [
  {
   "cell_type": "code",
   "execution_count": 1,
   "metadata": {},
   "outputs": [
    {
     "name": "stdout",
     "output_type": "stream",
     "text": [
      "Real part: x\n",
      "Imaginary part: y\n"
     ]
    }
   ],
   "source": [
    "from sympy import symbols, I\n",
    "import math\n",
    "\n",
    "x, y = symbols('x y', real=True)\n",
    "\n",
    "z = x + y*I\n",
    "\n",
    "\n",
    "#z = x**2 + y**2 + 2*x*y*I\n",
    "\n",
    "from sympy import re, im\n",
    "\n",
    "real_part = re(z)\n",
    "imag_part = im(z)\n",
    "\n",
    "print(f'Real part: {real_part}')\n",
    "print(f'Imaginary part: {imag_part}')\n"
   ]
  },
  {
   "cell_type": "code",
   "execution_count": 14,
   "metadata": {},
   "outputs": [
    {
     "name": "stdout",
     "output_type": "stream",
     "text": [
      "exp(cos(x + I*y)) + cos(x + I*y)\n",
      "Real part: exp(cos(x)*cosh(y))*cos(sin(x)*sinh(y)) + cos(x)*cosh(y)\n",
      "Imaginary part: -exp(cos(x)*cosh(y))*sin(sin(x)*sinh(y)) - sin(x)*sinh(y)\n"
     ]
    }
   ],
   "source": [
    "from sympy import symbols, I, cos, sin, sinh, tan, exp\n",
    "from sympy import simplify\n",
    "from sympy import re, im\n",
    "from sympy import simplify, powsimp\n",
    "\n",
    "# Define the symbols x and y\n",
    "x, y = symbols('x y',real=True)\n",
    "a, b = symbols('a b',real=True)\n",
    "# Define the complex expression\n",
    "#z = (cos(x) + I*sin(x))**2 + (cos(y) + I*sin(y))**2\n",
    "\n",
    "c = a+I*b\n",
    "\n",
    "zn = (x+I*y)\n",
    "z = pow(cos(zn),1) + pow(exp(1),cos(zn))\n",
    "\n",
    "\n",
    "# Simplify the expression\n",
    "simplified_expression = simplify(z)\n",
    "simplified_expression = powsimp(simplified_expression,deep=True)\n",
    "\n",
    "real_part = re(simplified_expression)\n",
    "imag_part = im(simplified_expression)\n",
    "\n",
    "\n",
    "# Print the simplified expression\n",
    "print(simplified_expression)\n",
    "\n",
    "print(f'Real part: {real_part}')\n",
    "print(f'Imaginary part: {imag_part}')\n"
   ]
  },
  {
   "cell_type": "code",
   "execution_count": null,
   "metadata": {},
   "outputs": [],
   "source": []
  }
 ],
 "metadata": {
  "kernelspec": {
   "display_name": "Python 3",
   "language": "python",
   "name": "python3"
  },
  "language_info": {
   "codemirror_mode": {
    "name": "ipython",
    "version": 3
   },
   "file_extension": ".py",
   "mimetype": "text/x-python",
   "name": "python",
   "nbconvert_exporter": "python",
   "pygments_lexer": "ipython3",
   "version": "3.10.10"
  },
  "orig_nbformat": 4,
  "vscode": {
   "interpreter": {
    "hash": "916dbcbb3f70747c44a77c7bcd40155683ae19c65e1c03b4aa3499c5328201f1"
   }
  }
 },
 "nbformat": 4,
 "nbformat_minor": 2
}
